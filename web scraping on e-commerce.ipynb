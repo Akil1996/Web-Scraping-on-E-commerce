{
 "cells": [
  {
   "cell_type": "code",
   "execution_count": 221,
   "metadata": {
    "scrolled": true
   },
   "outputs": [],
   "source": [
    "import selenium\n",
    "from selenium import webdriver as wb\n",
    "webD = wb.Chrome('/usr/local/share/chromedriver')\n",
    "webD.get('https://webscraper.io/test-sites/e-commerce/static')"
   ]
  },
  {
   "cell_type": "code",
   "execution_count": 222,
   "metadata": {},
   "outputs": [],
   "source": [
    "clickObj = webD.find_element_by_xpath('//*[@id=\"side-menu\"]/li[2]/a')"
   ]
  },
  {
   "cell_type": "code",
   "execution_count": 223,
   "metadata": {},
   "outputs": [],
   "source": [
    "clickObj.click()"
   ]
  },
  {
   "cell_type": "code",
   "execution_count": 224,
   "metadata": {},
   "outputs": [],
   "source": [
    "webD.find_element_by_xpath('//*[@id=\"side-menu\"]/li[2]/ul/li[1]/a').click()"
   ]
  },
  {
   "cell_type": "code",
   "execution_count": 225,
   "metadata": {},
   "outputs": [],
   "source": [
    "productInfoList =webD.find_elements_by_class_name('thumbnail')"
   ]
  },
  {
   "cell_type": "code",
   "execution_count": 226,
   "metadata": {},
   "outputs": [],
   "source": [
    "# ppp = productInfoList[0].text\n",
    "# ppp"
   ]
  },
  {
   "cell_type": "code",
   "execution_count": 227,
   "metadata": {},
   "outputs": [],
   "source": [
    "# ppp = productInfoList[0]"
   ]
  },
  {
   "cell_type": "code",
   "execution_count": 228,
   "metadata": {},
   "outputs": [],
   "source": [
    "# ppp1 = ppp.find_elements_by_tag_name('h4')[-1]"
   ]
  },
  {
   "cell_type": "code",
   "execution_count": 229,
   "metadata": {},
   "outputs": [],
   "source": [
    "# pp2 = ppp1.find_element_by_tag_name('a')"
   ]
  },
  {
   "cell_type": "code",
   "execution_count": 230,
   "metadata": {},
   "outputs": [],
   "source": [
    "# pp2.get_property('href')"
   ]
  },
  {
   "cell_type": "code",
   "execution_count": 231,
   "metadata": {},
   "outputs": [],
   "source": [
    "listOflink = []\n",
    "for el in productInfoList:\n",
    "    ppp1 = el.find_elements_by_tag_name('h4')[-1]\n",
    "    pp2 = ppp1.find_element_by_tag_name('a')\n",
    "    listOflink.append(pp2.get_property('href'))"
   ]
  },
  {
   "cell_type": "code",
   "execution_count": 232,
   "metadata": {},
   "outputs": [
    {
     "data": {
      "text/plain": [
       "['https://webscraper.io/test-sites/e-commerce/static/product/516',\n",
       " 'https://webscraper.io/test-sites/e-commerce/static/product/517',\n",
       " 'https://webscraper.io/test-sites/e-commerce/static/product/518',\n",
       " 'https://webscraper.io/test-sites/e-commerce/static/product/519',\n",
       " 'https://webscraper.io/test-sites/e-commerce/static/product/520',\n",
       " 'https://webscraper.io/test-sites/e-commerce/static/product/521']"
      ]
     },
     "execution_count": 232,
     "metadata": {},
     "output_type": "execute_result"
    }
   ],
   "source": [
    "listOflink"
   ]
  },
  {
   "cell_type": "code",
   "execution_count": 233,
   "metadata": {},
   "outputs": [],
   "source": [
    "# webD.find_element_by_xpath('/html/body/div[1]/div[3]/div/div[2]/ul/li[13]/a').click()\n"
   ]
  },
  {
   "cell_type": "code",
   "execution_count": 234,
   "metadata": {},
   "outputs": [],
   "source": [
    "\n",
    "listOflinks=[]\n",
    "condition=True\n",
    "while condition:\n",
    "    productInfoList=webD.find_elements_by_class_name('thumbnail')\n",
    "    for el in productInfoList:\n",
    "        ppp1=el.find_elements_by_tag_name('h4')[-1]\n",
    "        pp2=ppp1.find_element_by_tag_name('a')\n",
    "        listOflinks.append(pp2.get_property('href'))\n",
    "    try:\n",
    "#         webD.find_element_by_xpath('/html/body/div[1]/div[3]/div/div[2]/ul/li[13]/a').click()\n",
    "        webD.find_element_by_class_name('page-link').click()\n",
    "    except:\n",
    "        condition=False"
   ]
  },
  {
   "cell_type": "code",
   "execution_count": 235,
   "metadata": {},
   "outputs": [
    {
     "data": {
      "text/plain": [
       "['https://webscraper.io/test-sites/e-commerce/static/product/516',\n",
       " 'https://webscraper.io/test-sites/e-commerce/static/product/517',\n",
       " 'https://webscraper.io/test-sites/e-commerce/static/product/518',\n",
       " 'https://webscraper.io/test-sites/e-commerce/static/product/519',\n",
       " 'https://webscraper.io/test-sites/e-commerce/static/product/520',\n",
       " 'https://webscraper.io/test-sites/e-commerce/static/product/521']"
      ]
     },
     "execution_count": 235,
     "metadata": {},
     "output_type": "execute_result"
    }
   ],
   "source": [
    "listOflinks"
   ]
  },
  {
   "cell_type": "code",
   "execution_count": null,
   "metadata": {},
   "outputs": [],
   "source": []
  },
  {
   "cell_type": "code",
   "execution_count": null,
   "metadata": {},
   "outputs": [],
   "source": []
  },
  {
   "cell_type": "code",
   "execution_count": null,
   "metadata": {},
   "outputs": [],
   "source": []
  },
  {
   "cell_type": "code",
   "execution_count": null,
   "metadata": {},
   "outputs": [],
   "source": []
  },
  {
   "cell_type": "code",
   "execution_count": null,
   "metadata": {},
   "outputs": [],
   "source": []
  },
  {
   "cell_type": "code",
   "execution_count": null,
   "metadata": {},
   "outputs": [],
   "source": []
  },
  {
   "cell_type": "code",
   "execution_count": null,
   "metadata": {},
   "outputs": [],
   "source": []
  }
 ],
 "metadata": {
  "kernelspec": {
   "display_name": "Python 3",
   "language": "python",
   "name": "python3"
  },
  "language_info": {
   "codemirror_mode": {
    "name": "ipython",
    "version": 3
   },
   "file_extension": ".py",
   "mimetype": "text/x-python",
   "name": "python",
   "nbconvert_exporter": "python",
   "pygments_lexer": "ipython3",
   "version": "3.7.9"
  }
 },
 "nbformat": 4,
 "nbformat_minor": 4
}
